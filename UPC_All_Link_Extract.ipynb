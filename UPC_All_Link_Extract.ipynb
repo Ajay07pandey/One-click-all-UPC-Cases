{
  "nbformat": 4,
  "nbformat_minor": 0,
  "metadata": {
    "colab": {
      "provenance": [],
      "authorship_tag": "ABX9TyOBAPYquMS7vuQgis4e/Cd7",
      "include_colab_link": true
    },
    "kernelspec": {
      "name": "python3",
      "display_name": "Python 3"
    },
    "language_info": {
      "name": "python"
    }
  },
  "cells": [
    {
      "cell_type": "markdown",
      "metadata": {
        "id": "view-in-github",
        "colab_type": "text"
      },
      "source": [
        "<a href=\"https://colab.research.google.com/github/Ajay07pandey/One-click-all-UPC-Cases/blob/main/UPC_All_Link_Extract.ipynb\" target=\"_parent\"><img src=\"https://colab.research.google.com/assets/colab-badge.svg\" alt=\"Open In Colab\"/></a>"
      ]
    },
    {
      "cell_type": "code",
      "source": [
        "!pip install selenium"
      ],
      "metadata": {
        "colab": {
          "base_uri": "https://localhost:8080/"
        },
        "id": "TZHmOpakVW0Q",
        "outputId": "b1ec4297-b46e-4a49-ceca-c58b2cc8f89a"
      },
      "execution_count": null,
      "outputs": [
        {
          "output_type": "stream",
          "name": "stdout",
          "text": [
            "Collecting selenium\n",
            "  Downloading selenium-4.22.0-py3-none-any.whl (9.4 MB)\n",
            "\u001b[2K     \u001b[90m━━━━━━━━━━━━━━━━━━━━━━━━━━━━━━━━━━━━━━━━\u001b[0m \u001b[32m9.4/9.4 MB\u001b[0m \u001b[31m15.2 MB/s\u001b[0m eta \u001b[36m0:00:00\u001b[0m\n",
            "\u001b[?25hRequirement already satisfied: urllib3[socks]<3,>=1.26 in /usr/local/lib/python3.10/dist-packages (from selenium) (2.0.7)\n",
            "Collecting trio~=0.17 (from selenium)\n",
            "  Downloading trio-0.25.1-py3-none-any.whl (467 kB)\n",
            "\u001b[2K     \u001b[90m━━━━━━━━━━━━━━━━━━━━━━━━━━━━━━━━━━━━━━━━\u001b[0m \u001b[32m467.7/467.7 kB\u001b[0m \u001b[31m25.6 MB/s\u001b[0m eta \u001b[36m0:00:00\u001b[0m\n",
            "\u001b[?25hCollecting trio-websocket~=0.9 (from selenium)\n",
            "  Downloading trio_websocket-0.11.1-py3-none-any.whl (17 kB)\n",
            "Requirement already satisfied: certifi>=2021.10.8 in /usr/local/lib/python3.10/dist-packages (from selenium) (2024.6.2)\n",
            "Requirement already satisfied: typing_extensions>=4.9.0 in /usr/local/lib/python3.10/dist-packages (from selenium) (4.12.2)\n",
            "Requirement already satisfied: websocket-client>=1.8.0 in /usr/local/lib/python3.10/dist-packages (from selenium) (1.8.0)\n",
            "Requirement already satisfied: attrs>=23.2.0 in /usr/local/lib/python3.10/dist-packages (from trio~=0.17->selenium) (23.2.0)\n",
            "Requirement already satisfied: sortedcontainers in /usr/local/lib/python3.10/dist-packages (from trio~=0.17->selenium) (2.4.0)\n",
            "Requirement already satisfied: idna in /usr/local/lib/python3.10/dist-packages (from trio~=0.17->selenium) (3.7)\n",
            "Collecting outcome (from trio~=0.17->selenium)\n",
            "  Downloading outcome-1.3.0.post0-py2.py3-none-any.whl (10 kB)\n",
            "Requirement already satisfied: sniffio>=1.3.0 in /usr/local/lib/python3.10/dist-packages (from trio~=0.17->selenium) (1.3.1)\n",
            "Requirement already satisfied: exceptiongroup in /usr/local/lib/python3.10/dist-packages (from trio~=0.17->selenium) (1.2.1)\n",
            "Collecting wsproto>=0.14 (from trio-websocket~=0.9->selenium)\n",
            "  Downloading wsproto-1.2.0-py3-none-any.whl (24 kB)\n",
            "Requirement already satisfied: pysocks!=1.5.7,<2.0,>=1.5.6 in /usr/local/lib/python3.10/dist-packages (from urllib3[socks]<3,>=1.26->selenium) (1.7.1)\n",
            "Collecting h11<1,>=0.9.0 (from wsproto>=0.14->trio-websocket~=0.9->selenium)\n",
            "  Downloading h11-0.14.0-py3-none-any.whl (58 kB)\n",
            "\u001b[2K     \u001b[90m━━━━━━━━━━━━━━━━━━━━━━━━━━━━━━━━━━━━━━━━\u001b[0m \u001b[32m58.3/58.3 kB\u001b[0m \u001b[31m7.9 MB/s\u001b[0m eta \u001b[36m0:00:00\u001b[0m\n",
            "\u001b[?25hInstalling collected packages: outcome, h11, wsproto, trio, trio-websocket, selenium\n",
            "Successfully installed h11-0.14.0 outcome-1.3.0.post0 selenium-4.22.0 trio-0.25.1 trio-websocket-0.11.1 wsproto-1.2.0\n"
          ]
        }
      ]
    },
    {
      "cell_type": "code",
      "source": [
        "!apt-get update\n",
        "!apt install chromium-chromedriver\n",
        "!cp /usr/lib/chromium-browser/chromedriver /usr/bin"
      ],
      "metadata": {
        "colab": {
          "base_uri": "https://localhost:8080/"
        },
        "id": "5OtzZDIUYVcO",
        "outputId": "ba652c53-e2eb-49be-d13b-b2edefa7e8ca"
      },
      "execution_count": null,
      "outputs": [
        {
          "output_type": "stream",
          "name": "stdout",
          "text": [
            "\r0% [Working]\r            \rGet:1 https://cloud.r-project.org/bin/linux/ubuntu jammy-cran40/ InRelease [3,626 B]\n",
            "Get:2 https://developer.download.nvidia.com/compute/cuda/repos/ubuntu2204/x86_64  InRelease [1,581 B]\n",
            "Get:3 http://security.ubuntu.com/ubuntu jammy-security InRelease [129 kB]\n",
            "Hit:4 http://archive.ubuntu.com/ubuntu jammy InRelease\n",
            "Get:5 https://developer.download.nvidia.com/compute/cuda/repos/ubuntu2204/x86_64  Packages [929 kB]\n",
            "Get:6 http://archive.ubuntu.com/ubuntu jammy-updates InRelease [128 kB]\n",
            "Hit:7 https://ppa.launchpadcontent.net/c2d4u.team/c2d4u4.0+/ubuntu jammy InRelease\n",
            "Get:8 http://security.ubuntu.com/ubuntu jammy-security/restricted amd64 Packages [2,479 kB]\n",
            "Hit:9 http://archive.ubuntu.com/ubuntu jammy-backports InRelease\n",
            "Hit:10 https://ppa.launchpadcontent.net/deadsnakes/ppa/ubuntu jammy InRelease\n",
            "Hit:11 https://ppa.launchpadcontent.net/graphics-drivers/ppa/ubuntu jammy InRelease\n",
            "Get:12 http://archive.ubuntu.com/ubuntu jammy-updates/main amd64 Packages [2,231 kB]\n",
            "Hit:13 https://ppa.launchpadcontent.net/ubuntugis/ppa/ubuntu jammy InRelease\n",
            "Get:14 http://security.ubuntu.com/ubuntu jammy-security/main amd64 Packages [1,924 kB]\n",
            "Get:15 http://archive.ubuntu.com/ubuntu jammy-updates/restricted amd64 Packages [2,627 kB]\n",
            "Get:16 http://archive.ubuntu.com/ubuntu jammy-updates/universe amd64 Packages [1,394 kB]\n",
            "Fetched 11.8 MB in 5s (2,515 kB/s)\n",
            "Reading package lists... Done\n",
            "Reading package lists... Done\n",
            "Building dependency tree... Done\n",
            "Reading state information... Done\n",
            "The following additional packages will be installed:\n",
            "  apparmor chromium-browser libfuse3-3 liblzo2-2 libudev1 snapd squashfs-tools systemd-hwe-hwdb\n",
            "  udev\n",
            "Suggested packages:\n",
            "  apparmor-profiles-extra apparmor-utils fuse3 zenity | kdialog\n",
            "The following NEW packages will be installed:\n",
            "  apparmor chromium-browser chromium-chromedriver libfuse3-3 liblzo2-2 snapd squashfs-tools\n",
            "  systemd-hwe-hwdb udev\n",
            "The following packages will be upgraded:\n",
            "  libudev1\n",
            "1 upgraded, 9 newly installed, 0 to remove and 45 not upgraded.\n",
            "Need to get 28.5 MB of archives.\n",
            "After this operation, 118 MB of additional disk space will be used.\n",
            "Get:1 http://archive.ubuntu.com/ubuntu jammy-updates/main amd64 apparmor amd64 3.0.4-2ubuntu2.3 [595 kB]\n",
            "Get:2 http://archive.ubuntu.com/ubuntu jammy/main amd64 liblzo2-2 amd64 2.10-2build3 [53.7 kB]\n",
            "Get:3 http://archive.ubuntu.com/ubuntu jammy/main amd64 squashfs-tools amd64 1:4.5-3build1 [159 kB]\n",
            "Get:4 http://archive.ubuntu.com/ubuntu jammy-updates/main amd64 libudev1 amd64 249.11-0ubuntu3.12 [78.2 kB]\n",
            "Get:5 http://archive.ubuntu.com/ubuntu jammy-updates/main amd64 udev amd64 249.11-0ubuntu3.12 [1,557 kB]\n",
            "Get:6 http://archive.ubuntu.com/ubuntu jammy/main amd64 libfuse3-3 amd64 3.10.5-1build1 [81.2 kB]\n",
            "Get:7 http://archive.ubuntu.com/ubuntu jammy-updates/main amd64 snapd amd64 2.63+22.04 [25.9 MB]\n",
            "Get:8 http://archive.ubuntu.com/ubuntu jammy-updates/universe amd64 chromium-browser amd64 1:85.0.4183.83-0ubuntu2.22.04.1 [49.2 kB]\n",
            "Get:9 http://archive.ubuntu.com/ubuntu jammy-updates/universe amd64 chromium-chromedriver amd64 1:85.0.4183.83-0ubuntu2.22.04.1 [2,308 B]\n",
            "Get:10 http://archive.ubuntu.com/ubuntu jammy-updates/main amd64 systemd-hwe-hwdb all 249.11.5 [3,228 B]\n",
            "Fetched 28.5 MB in 5s (5,247 kB/s)\n",
            "Preconfiguring packages ...\n",
            "Selecting previously unselected package apparmor.\n",
            "(Reading database ... 121925 files and directories currently installed.)\n",
            "Preparing to unpack .../apparmor_3.0.4-2ubuntu2.3_amd64.deb ...\n",
            "Unpacking apparmor (3.0.4-2ubuntu2.3) ...\n",
            "Selecting previously unselected package liblzo2-2:amd64.\n",
            "Preparing to unpack .../liblzo2-2_2.10-2build3_amd64.deb ...\n",
            "Unpacking liblzo2-2:amd64 (2.10-2build3) ...\n",
            "Selecting previously unselected package squashfs-tools.\n",
            "Preparing to unpack .../squashfs-tools_1%3a4.5-3build1_amd64.deb ...\n",
            "Unpacking squashfs-tools (1:4.5-3build1) ...\n",
            "Preparing to unpack .../libudev1_249.11-0ubuntu3.12_amd64.deb ...\n",
            "Unpacking libudev1:amd64 (249.11-0ubuntu3.12) over (249.11-0ubuntu3.10) ...\n",
            "Setting up libudev1:amd64 (249.11-0ubuntu3.12) ...\n",
            "Selecting previously unselected package udev.\n",
            "(Reading database ... 122133 files and directories currently installed.)\n",
            "Preparing to unpack .../udev_249.11-0ubuntu3.12_amd64.deb ...\n",
            "Unpacking udev (249.11-0ubuntu3.12) ...\n",
            "Selecting previously unselected package libfuse3-3:amd64.\n",
            "Preparing to unpack .../libfuse3-3_3.10.5-1build1_amd64.deb ...\n",
            "Unpacking libfuse3-3:amd64 (3.10.5-1build1) ...\n",
            "Selecting previously unselected package snapd.\n",
            "Preparing to unpack .../snapd_2.63+22.04_amd64.deb ...\n",
            "Unpacking snapd (2.63+22.04) ...\n",
            "Setting up apparmor (3.0.4-2ubuntu2.3) ...\n",
            "Created symlink /etc/systemd/system/sysinit.target.wants/apparmor.service → /lib/systemd/system/apparmor.service.\n",
            "Setting up liblzo2-2:amd64 (2.10-2build3) ...\n",
            "Setting up squashfs-tools (1:4.5-3build1) ...\n",
            "Setting up udev (249.11-0ubuntu3.12) ...\n",
            "invoke-rc.d: could not determine current runlevel\n",
            "invoke-rc.d: policy-rc.d denied execution of start.\n",
            "Setting up libfuse3-3:amd64 (3.10.5-1build1) ...\n",
            "Setting up snapd (2.63+22.04) ...\n",
            "Created symlink /etc/systemd/system/multi-user.target.wants/snapd.apparmor.service → /lib/systemd/system/snapd.apparmor.service.\n",
            "Created symlink /etc/systemd/system/multi-user.target.wants/snapd.autoimport.service → /lib/systemd/system/snapd.autoimport.service.\n",
            "Created symlink /etc/systemd/system/multi-user.target.wants/snapd.core-fixup.service → /lib/systemd/system/snapd.core-fixup.service.\n",
            "Created symlink /etc/systemd/system/multi-user.target.wants/snapd.recovery-chooser-trigger.service → /lib/systemd/system/snapd.recovery-chooser-trigger.service.\n",
            "Created symlink /etc/systemd/system/multi-user.target.wants/snapd.seeded.service → /lib/systemd/system/snapd.seeded.service.\n",
            "Created symlink /etc/systemd/system/cloud-final.service.wants/snapd.seeded.service → /lib/systemd/system/snapd.seeded.service.\n",
            "Unit /lib/systemd/system/snapd.seeded.service is added as a dependency to a non-existent unit cloud-final.service.\n",
            "Created symlink /etc/systemd/system/multi-user.target.wants/snapd.service → /lib/systemd/system/snapd.service.\n",
            "Created symlink /etc/systemd/system/timers.target.wants/snapd.snap-repair.timer → /lib/systemd/system/snapd.snap-repair.timer.\n",
            "Created symlink /etc/systemd/system/sockets.target.wants/snapd.socket → /lib/systemd/system/snapd.socket.\n",
            "Created symlink /etc/systemd/system/final.target.wants/snapd.system-shutdown.service → /lib/systemd/system/snapd.system-shutdown.service.\n",
            "Selecting previously unselected package chromium-browser.\n",
            "(Reading database ... 122363 files and directories currently installed.)\n",
            "Preparing to unpack .../chromium-browser_1%3a85.0.4183.83-0ubuntu2.22.04.1_amd64.deb ...\n",
            "=> Installing the chromium snap\n",
            "==> Checking connectivity with the snap store\n",
            "===> System doesn't have a working snapd, skipping\n",
            "Unpacking chromium-browser (1:85.0.4183.83-0ubuntu2.22.04.1) ...\n",
            "Selecting previously unselected package chromium-chromedriver.\n",
            "Preparing to unpack .../chromium-chromedriver_1%3a85.0.4183.83-0ubuntu2.22.04.1_amd64.deb ...\n",
            "Unpacking chromium-chromedriver (1:85.0.4183.83-0ubuntu2.22.04.1) ...\n",
            "Selecting previously unselected package systemd-hwe-hwdb.\n",
            "Preparing to unpack .../systemd-hwe-hwdb_249.11.5_all.deb ...\n",
            "Unpacking systemd-hwe-hwdb (249.11.5) ...\n",
            "Setting up systemd-hwe-hwdb (249.11.5) ...\n",
            "Setting up chromium-browser (1:85.0.4183.83-0ubuntu2.22.04.1) ...\n",
            "update-alternatives: using /usr/bin/chromium-browser to provide /usr/bin/x-www-browser (x-www-browser) in auto mode\n",
            "update-alternatives: using /usr/bin/chromium-browser to provide /usr/bin/gnome-www-browser (gnome-www-browser) in auto mode\n",
            "Setting up chromium-chromedriver (1:85.0.4183.83-0ubuntu2.22.04.1) ...\n",
            "Processing triggers for udev (249.11-0ubuntu3.12) ...\n",
            "Processing triggers for hicolor-icon-theme (0.17-2) ...\n",
            "Processing triggers for libc-bin (2.35-0ubuntu3.4) ...\n",
            "/sbin/ldconfig.real: /usr/local/lib/libtbbbind.so.3 is not a symbolic link\n",
            "\n",
            "/sbin/ldconfig.real: /usr/local/lib/libtbb.so.12 is not a symbolic link\n",
            "\n",
            "/sbin/ldconfig.real: /usr/local/lib/libtbbmalloc_proxy.so.2 is not a symbolic link\n",
            "\n",
            "/sbin/ldconfig.real: /usr/local/lib/libtbbbind_2_5.so.3 is not a symbolic link\n",
            "\n",
            "/sbin/ldconfig.real: /usr/local/lib/libtbbmalloc.so.2 is not a symbolic link\n",
            "\n",
            "/sbin/ldconfig.real: /usr/local/lib/libtbbbind_2_0.so.3 is not a symbolic link\n",
            "\n",
            "Processing triggers for man-db (2.10.2-1) ...\n",
            "Processing triggers for dbus (1.12.20-2ubuntu4.1) ...\n",
            "cp: '/usr/lib/chromium-browser/chromedriver' and '/usr/bin/chromedriver' are the same file\n"
          ]
        }
      ]
    },
    {
      "cell_type": "markdown",
      "source": [
        "# New Section"
      ],
      "metadata": {
        "id": "VwGe3JB1AdbK"
      }
    },
    {
      "cell_type": "markdown",
      "source": [
        "1. time: This library provides various time-related functions, such as sleep() for pausing the execution of the program for a specified duration.\n",
        "pandas: This is a popular data manipulation and analysis library that provides data structures and data analysis tools for working with structured (tabular) data.\n",
        "2.selenium: This is a web automation library that allows you to control web browsers programmatically.\n",
        "\n",
        "3. selenium.webdriver.common.by: This module from the Selenium library provides various locator strategies (e.g., By.ID, By.XPATH) for locating web elements on a web page.\n",
        "\n",
        "4. selenium.webdriver.common.keys: This module from the Selenium library provides access to various special keys (e.g., Keys.ENTER, Keys.TAB) that can be simulated in web browsers.\n",
        "\n",
        "5. selenium.webdriver.support.ui: This module from the Selenium library provides utility classes for interacting with web elements, such as the WebDriverWait class for waiting for specific conditions to be met.\n",
        "\n",
        "6. selenium.webdriver.support.expected_conditions: This module from the Selenium library provides a set of predefined expected conditions that can be used with the WebDriverWait class."
      ],
      "metadata": {
        "id": "-AHD3dlwYaxM"
      }
    },
    {
      "cell_type": "code",
      "source": [],
      "metadata": {
        "id": "rMvuHspPbkNM"
      },
      "execution_count": null,
      "outputs": []
    },
    {
      "cell_type": "code",
      "execution_count": null,
      "metadata": {
        "colab": {
          "base_uri": "https://localhost:8080/"
        },
        "id": "1nmGcaSGUpVl",
        "outputId": "f5822274-6ec7-4435-e59c-65af113b553a"
      },
      "outputs": [
        {
          "output_type": "stream",
          "name": "stdout",
          "text": [
            "Handling Checkbox 1\n",
            "Handling Checkbox 2\n",
            "Handling Checkbox 3\n",
            "Handling Checkbox 4\n",
            "Handling Checkbox 5\n",
            "                                           Checkbox 1  \\\n",
            "0    https://upc.beetz.nl/showCaseDB.php?number=35930   \n",
            "1             https://upc.beetz.nl/Showcasedb#patents   \n",
            "2    https://upc.beetz.nl/showCaseDB.php?number=36096   \n",
            "3             https://upc.beetz.nl/Showcasedb#patents   \n",
            "4    https://upc.beetz.nl/showCaseDB.php?number=33753   \n",
            "..                                                ...   \n",
            "348                                               NaN   \n",
            "349                                               NaN   \n",
            "350                                               NaN   \n",
            "351                                               NaN   \n",
            "352                                               NaN   \n",
            "\n",
            "                                           Checkbox 2  \\\n",
            "0    https://upc.beetz.nl/showCaseDB.php?number=31389   \n",
            "1             https://upc.beetz.nl/Showcasedb#patents   \n",
            "2    https://upc.beetz.nl/showCaseDB.php?number=27358   \n",
            "3             https://upc.beetz.nl/Showcasedb#patents   \n",
            "4    https://upc.beetz.nl/showCaseDB.php?number=24460   \n",
            "..                                                ...   \n",
            "348                                               NaN   \n",
            "349                                               NaN   \n",
            "350                                               NaN   \n",
            "351                                               NaN   \n",
            "352                                               NaN   \n",
            "\n",
            "                                            Checkbox 3  \\\n",
            "0     https://upc.beetz.nl/showCaseDB.php?number=35641   \n",
            "1              https://upc.beetz.nl/Showcasedb#patents   \n",
            "2     https://upc.beetz.nl/showCaseDB.php?number=28486   \n",
            "3              https://upc.beetz.nl/Showcasedb#patents   \n",
            "4     https://upc.beetz.nl/showCaseDB.php?number=33752   \n",
            "..                                                 ...   \n",
            "348            https://upc.beetz.nl/Showcasedb#patents   \n",
            "349  https://upc.beetz.nl/showCaseDB.php?number=577764   \n",
            "350            https://upc.beetz.nl/Showcasedb#patents   \n",
            "351  https://upc.beetz.nl/showCaseDB.php?number=573257   \n",
            "352            https://upc.beetz.nl/Showcasedb#patents   \n",
            "\n",
            "                                           Checkbox 4  \\\n",
            "0    https://upc.beetz.nl/showCaseDB.php?number=23636   \n",
            "1             https://upc.beetz.nl/Showcasedb#patents   \n",
            "2    https://upc.beetz.nl/showCaseDB.php?number=23163   \n",
            "3             https://upc.beetz.nl/Showcasedb#patents   \n",
            "4    https://upc.beetz.nl/showCaseDB.php?number=16267   \n",
            "..                                                ...   \n",
            "348                                               NaN   \n",
            "349                                               NaN   \n",
            "350                                               NaN   \n",
            "351                                               NaN   \n",
            "352                                               NaN   \n",
            "\n",
            "                                           Checkbox 5  \n",
            "0    https://upc.beetz.nl/showCaseDB.php?number=35049  \n",
            "1    https://upc.beetz.nl/showCaseDB.php?number=33746  \n",
            "2    https://upc.beetz.nl/showCaseDB.php?number=32350  \n",
            "3    https://upc.beetz.nl/showCaseDB.php?number=32347  \n",
            "4    https://upc.beetz.nl/showCaseDB.php?number=32345  \n",
            "..                                                ...  \n",
            "348                                               NaN  \n",
            "349                                               NaN  \n",
            "350                                               NaN  \n",
            "351                                               NaN  \n",
            "352                                               NaN  \n",
            "\n",
            "[353 rows x 5 columns]\n"
          ]
        }
      ],
      "source": [
        "import time\n",
        "import pandas as pd\n",
        "from selenium import webdriver\n",
        "from selenium.webdriver.common.by import By\n",
        "from selenium.webdriver.chrome.service import Service\n",
        "from selenium.webdriver.chrome.options import Options\n",
        "\n",
        "# Setup Chrome options for headless mode\n",
        "chrome_options = Options()\n",
        "chrome_options.add_argument(\"--headless\")\n",
        "chrome_options.add_argument(\"--no-sandbox\")\n",
        "chrome_options.add_argument(\"--disable-dev-shm-usage\")\n",
        "\n",
        "# Initialize the webdriver\n",
        "driver = webdriver.Chrome(options=chrome_options)\n",
        "driver.get(\"https://upc.beetz.nl/Showcasedb\")\n",
        "\n",
        "## Function to extract links from the current page\n",
        "def extract_links():\n",
        "    links = []\n",
        "    link_elements = driver.find_elements(By.XPATH, '//*[@id=\"caseData\"]//a')\n",
        "    for elem in link_elements:\n",
        "        links.append(elem.get_attribute('href'))\n",
        "    return links\n",
        "\n",
        "# Function to navigate through all pages and extract links\n",
        "def navigate_pages():\n",
        "    all_links = []\n",
        "    while True:\n",
        "        # Extract links from the current page\n",
        "        all_links.extend(extract_links())\n",
        "\n",
        "        # Find the page navigation element\n",
        "        page_info = driver.find_element(By.XPATH, '//*[@id=\"caseData\"]/table[1]/tbody/tr/td/span').text\n",
        "        current_page, total_pages = map(int, page_info.split()[1::2])\n",
        "\n",
        "        # Check if the current page is the last page\n",
        "        if current_page == total_pages:\n",
        "            break\n",
        "\n",
        "        # Click on the next page button\n",
        "        next_page_button = driver.find_element(By.XPATH, '//*[@id=\"caseData\"]/table[1]/tbody/tr/td/i[3]')\n",
        "        next_page_button.click()\n",
        "        time.sleep(2)  # Wait for the next page to load\n",
        "\n",
        "    return all_links\n",
        "\n",
        "# Function to handle each checkbox and extract data\n",
        "def handle_checkbox(checkbox_xpath):\n",
        "    # Uncheck all checkboxes first\n",
        "    checkboxes = ['//*[@id=\"type1\"]', '//*[@id=\"type2\"]', '//*[@id=\"type2CC\"]', '//*[@id=\"type3\"]', '//*[@id=\"type4\"]']\n",
        "    for cb in checkboxes:\n",
        "        checkbox = driver.find_element(By.XPATH, cb)\n",
        "        if checkbox.is_selected():\n",
        "            checkbox.click()\n",
        "            time.sleep(1)\n",
        "\n",
        "    # Check the current checkbox\n",
        "    checkbox = driver.find_element(By.XPATH, checkbox_xpath)\n",
        "    checkbox.click()\n",
        "    time.sleep(2)  # Wait for the page to load\n",
        "\n",
        "    # Navigate through the pages and extract links\n",
        "    return navigate_pages()\n",
        "\n",
        "# Main script\n",
        "data = {}\n",
        "\n",
        "# List of checkboxes with their corresponding XPath\n",
        "checkboxes = {\n",
        "    'Checkbox 1': '//*[@id=\"type1\"]',\n",
        "    'Checkbox 2': '//*[@id=\"type2\"]',\n",
        "    'Checkbox 3': '//*[@id=\"type2CC\"]',\n",
        "    'Checkbox 4': '//*[@id=\"type3\"]',\n",
        "    'Checkbox 5': '//*[@id=\"type4\"]'\n",
        "}\n",
        "\n",
        "try:\n",
        "    for name, xpath in checkboxes.items():\n",
        "        print(f\"Handling {name}\")\n",
        "        data[name] = handle_checkbox(xpath)\n",
        "finally:\n",
        "    # Close the driver\n",
        "    driver.quit()\n",
        "\n",
        "# Convert the data to a DataFrame and print it\n",
        "df = pd.DataFrame(dict([(k, pd.Series(v)) for k, v in data.items()]))\n",
        "print(df)"
      ]
    },
    {
      "cell_type": "code",
      "source": [
        "df.to_excel('raw.xlsx', index=False)\n",
        "print(\"Data extraction complete. Saved to 'extracted_data.xlsx'\")"
      ],
      "metadata": {
        "colab": {
          "base_uri": "https://localhost:8080/"
        },
        "id": "DPLZMZT2d0jH",
        "outputId": "4570eb93-3490-43a4-d1c0-2e4d74dd7f00"
      },
      "execution_count": null,
      "outputs": [
        {
          "output_type": "stream",
          "name": "stdout",
          "text": [
            "Data extraction complete. Saved to 'extracted_data.xlsx'\n"
          ]
        }
      ]
    },
    {
      "cell_type": "code",
      "source": [
        "df.head()"
      ],
      "metadata": {
        "colab": {
          "base_uri": "https://localhost:8080/",
          "height": 313
        },
        "id": "EBvU-v9_2AXm",
        "outputId": "2ea571c5-a9de-420c-a7a0-d61f6a1cf71e"
      },
      "execution_count": null,
      "outputs": [
        {
          "output_type": "execute_result",
          "data": {
            "text/plain": [
              "                                         Checkbox 1  \\\n",
              "0  https://upc.beetz.nl/showCaseDB.php?number=35930   \n",
              "1           https://upc.beetz.nl/Showcasedb#patents   \n",
              "2  https://upc.beetz.nl/showCaseDB.php?number=36096   \n",
              "3           https://upc.beetz.nl/Showcasedb#patents   \n",
              "4  https://upc.beetz.nl/showCaseDB.php?number=33753   \n",
              "\n",
              "                                         Checkbox 2  \\\n",
              "0  https://upc.beetz.nl/showCaseDB.php?number=31389   \n",
              "1           https://upc.beetz.nl/Showcasedb#patents   \n",
              "2  https://upc.beetz.nl/showCaseDB.php?number=27358   \n",
              "3           https://upc.beetz.nl/Showcasedb#patents   \n",
              "4  https://upc.beetz.nl/showCaseDB.php?number=24460   \n",
              "\n",
              "                                         Checkbox 3  \\\n",
              "0  https://upc.beetz.nl/showCaseDB.php?number=35641   \n",
              "1           https://upc.beetz.nl/Showcasedb#patents   \n",
              "2  https://upc.beetz.nl/showCaseDB.php?number=28486   \n",
              "3           https://upc.beetz.nl/Showcasedb#patents   \n",
              "4  https://upc.beetz.nl/showCaseDB.php?number=33752   \n",
              "\n",
              "                                         Checkbox 4  \\\n",
              "0  https://upc.beetz.nl/showCaseDB.php?number=23636   \n",
              "1           https://upc.beetz.nl/Showcasedb#patents   \n",
              "2  https://upc.beetz.nl/showCaseDB.php?number=23163   \n",
              "3           https://upc.beetz.nl/Showcasedb#patents   \n",
              "4  https://upc.beetz.nl/showCaseDB.php?number=16267   \n",
              "\n",
              "                                         Checkbox 5  \n",
              "0  https://upc.beetz.nl/showCaseDB.php?number=35049  \n",
              "1  https://upc.beetz.nl/showCaseDB.php?number=33746  \n",
              "2  https://upc.beetz.nl/showCaseDB.php?number=32350  \n",
              "3  https://upc.beetz.nl/showCaseDB.php?number=32347  \n",
              "4  https://upc.beetz.nl/showCaseDB.php?number=32345  "
            ],
            "text/html": [
              "\n",
              "  <div id=\"df-36910754-da96-435d-a519-30a7eb101df0\" class=\"colab-df-container\">\n",
              "    <div>\n",
              "<style scoped>\n",
              "    .dataframe tbody tr th:only-of-type {\n",
              "        vertical-align: middle;\n",
              "    }\n",
              "\n",
              "    .dataframe tbody tr th {\n",
              "        vertical-align: top;\n",
              "    }\n",
              "\n",
              "    .dataframe thead th {\n",
              "        text-align: right;\n",
              "    }\n",
              "</style>\n",
              "<table border=\"1\" class=\"dataframe\">\n",
              "  <thead>\n",
              "    <tr style=\"text-align: right;\">\n",
              "      <th></th>\n",
              "      <th>Checkbox 1</th>\n",
              "      <th>Checkbox 2</th>\n",
              "      <th>Checkbox 3</th>\n",
              "      <th>Checkbox 4</th>\n",
              "      <th>Checkbox 5</th>\n",
              "    </tr>\n",
              "  </thead>\n",
              "  <tbody>\n",
              "    <tr>\n",
              "      <th>0</th>\n",
              "      <td>https://upc.beetz.nl/showCaseDB.php?number=35930</td>\n",
              "      <td>https://upc.beetz.nl/showCaseDB.php?number=31389</td>\n",
              "      <td>https://upc.beetz.nl/showCaseDB.php?number=35641</td>\n",
              "      <td>https://upc.beetz.nl/showCaseDB.php?number=23636</td>\n",
              "      <td>https://upc.beetz.nl/showCaseDB.php?number=35049</td>\n",
              "    </tr>\n",
              "    <tr>\n",
              "      <th>1</th>\n",
              "      <td>https://upc.beetz.nl/Showcasedb#patents</td>\n",
              "      <td>https://upc.beetz.nl/Showcasedb#patents</td>\n",
              "      <td>https://upc.beetz.nl/Showcasedb#patents</td>\n",
              "      <td>https://upc.beetz.nl/Showcasedb#patents</td>\n",
              "      <td>https://upc.beetz.nl/showCaseDB.php?number=33746</td>\n",
              "    </tr>\n",
              "    <tr>\n",
              "      <th>2</th>\n",
              "      <td>https://upc.beetz.nl/showCaseDB.php?number=36096</td>\n",
              "      <td>https://upc.beetz.nl/showCaseDB.php?number=27358</td>\n",
              "      <td>https://upc.beetz.nl/showCaseDB.php?number=28486</td>\n",
              "      <td>https://upc.beetz.nl/showCaseDB.php?number=23163</td>\n",
              "      <td>https://upc.beetz.nl/showCaseDB.php?number=32350</td>\n",
              "    </tr>\n",
              "    <tr>\n",
              "      <th>3</th>\n",
              "      <td>https://upc.beetz.nl/Showcasedb#patents</td>\n",
              "      <td>https://upc.beetz.nl/Showcasedb#patents</td>\n",
              "      <td>https://upc.beetz.nl/Showcasedb#patents</td>\n",
              "      <td>https://upc.beetz.nl/Showcasedb#patents</td>\n",
              "      <td>https://upc.beetz.nl/showCaseDB.php?number=32347</td>\n",
              "    </tr>\n",
              "    <tr>\n",
              "      <th>4</th>\n",
              "      <td>https://upc.beetz.nl/showCaseDB.php?number=33753</td>\n",
              "      <td>https://upc.beetz.nl/showCaseDB.php?number=24460</td>\n",
              "      <td>https://upc.beetz.nl/showCaseDB.php?number=33752</td>\n",
              "      <td>https://upc.beetz.nl/showCaseDB.php?number=16267</td>\n",
              "      <td>https://upc.beetz.nl/showCaseDB.php?number=32345</td>\n",
              "    </tr>\n",
              "  </tbody>\n",
              "</table>\n",
              "</div>\n",
              "    <div class=\"colab-df-buttons\">\n",
              "\n",
              "  <div class=\"colab-df-container\">\n",
              "    <button class=\"colab-df-convert\" onclick=\"convertToInteractive('df-36910754-da96-435d-a519-30a7eb101df0')\"\n",
              "            title=\"Convert this dataframe to an interactive table.\"\n",
              "            style=\"display:none;\">\n",
              "\n",
              "  <svg xmlns=\"http://www.w3.org/2000/svg\" height=\"24px\" viewBox=\"0 -960 960 960\">\n",
              "    <path d=\"M120-120v-720h720v720H120Zm60-500h600v-160H180v160Zm220 220h160v-160H400v160Zm0 220h160v-160H400v160ZM180-400h160v-160H180v160Zm440 0h160v-160H620v160ZM180-180h160v-160H180v160Zm440 0h160v-160H620v160Z\"/>\n",
              "  </svg>\n",
              "    </button>\n",
              "\n",
              "  <style>\n",
              "    .colab-df-container {\n",
              "      display:flex;\n",
              "      gap: 12px;\n",
              "    }\n",
              "\n",
              "    .colab-df-convert {\n",
              "      background-color: #E8F0FE;\n",
              "      border: none;\n",
              "      border-radius: 50%;\n",
              "      cursor: pointer;\n",
              "      display: none;\n",
              "      fill: #1967D2;\n",
              "      height: 32px;\n",
              "      padding: 0 0 0 0;\n",
              "      width: 32px;\n",
              "    }\n",
              "\n",
              "    .colab-df-convert:hover {\n",
              "      background-color: #E2EBFA;\n",
              "      box-shadow: 0px 1px 2px rgba(60, 64, 67, 0.3), 0px 1px 3px 1px rgba(60, 64, 67, 0.15);\n",
              "      fill: #174EA6;\n",
              "    }\n",
              "\n",
              "    .colab-df-buttons div {\n",
              "      margin-bottom: 4px;\n",
              "    }\n",
              "\n",
              "    [theme=dark] .colab-df-convert {\n",
              "      background-color: #3B4455;\n",
              "      fill: #D2E3FC;\n",
              "    }\n",
              "\n",
              "    [theme=dark] .colab-df-convert:hover {\n",
              "      background-color: #434B5C;\n",
              "      box-shadow: 0px 1px 3px 1px rgba(0, 0, 0, 0.15);\n",
              "      filter: drop-shadow(0px 1px 2px rgba(0, 0, 0, 0.3));\n",
              "      fill: #FFFFFF;\n",
              "    }\n",
              "  </style>\n",
              "\n",
              "    <script>\n",
              "      const buttonEl =\n",
              "        document.querySelector('#df-36910754-da96-435d-a519-30a7eb101df0 button.colab-df-convert');\n",
              "      buttonEl.style.display =\n",
              "        google.colab.kernel.accessAllowed ? 'block' : 'none';\n",
              "\n",
              "      async function convertToInteractive(key) {\n",
              "        const element = document.querySelector('#df-36910754-da96-435d-a519-30a7eb101df0');\n",
              "        const dataTable =\n",
              "          await google.colab.kernel.invokeFunction('convertToInteractive',\n",
              "                                                    [key], {});\n",
              "        if (!dataTable) return;\n",
              "\n",
              "        const docLinkHtml = 'Like what you see? Visit the ' +\n",
              "          '<a target=\"_blank\" href=https://colab.research.google.com/notebooks/data_table.ipynb>data table notebook</a>'\n",
              "          + ' to learn more about interactive tables.';\n",
              "        element.innerHTML = '';\n",
              "        dataTable['output_type'] = 'display_data';\n",
              "        await google.colab.output.renderOutput(dataTable, element);\n",
              "        const docLink = document.createElement('div');\n",
              "        docLink.innerHTML = docLinkHtml;\n",
              "        element.appendChild(docLink);\n",
              "      }\n",
              "    </script>\n",
              "  </div>\n",
              "\n",
              "\n",
              "<div id=\"df-369ba9b0-c2cd-46cd-b208-951f3540a0bd\">\n",
              "  <button class=\"colab-df-quickchart\" onclick=\"quickchart('df-369ba9b0-c2cd-46cd-b208-951f3540a0bd')\"\n",
              "            title=\"Suggest charts\"\n",
              "            style=\"display:none;\">\n",
              "\n",
              "<svg xmlns=\"http://www.w3.org/2000/svg\" height=\"24px\"viewBox=\"0 0 24 24\"\n",
              "     width=\"24px\">\n",
              "    <g>\n",
              "        <path d=\"M19 3H5c-1.1 0-2 .9-2 2v14c0 1.1.9 2 2 2h14c1.1 0 2-.9 2-2V5c0-1.1-.9-2-2-2zM9 17H7v-7h2v7zm4 0h-2V7h2v10zm4 0h-2v-4h2v4z\"/>\n",
              "    </g>\n",
              "</svg>\n",
              "  </button>\n",
              "\n",
              "<style>\n",
              "  .colab-df-quickchart {\n",
              "      --bg-color: #E8F0FE;\n",
              "      --fill-color: #1967D2;\n",
              "      --hover-bg-color: #E2EBFA;\n",
              "      --hover-fill-color: #174EA6;\n",
              "      --disabled-fill-color: #AAA;\n",
              "      --disabled-bg-color: #DDD;\n",
              "  }\n",
              "\n",
              "  [theme=dark] .colab-df-quickchart {\n",
              "      --bg-color: #3B4455;\n",
              "      --fill-color: #D2E3FC;\n",
              "      --hover-bg-color: #434B5C;\n",
              "      --hover-fill-color: #FFFFFF;\n",
              "      --disabled-bg-color: #3B4455;\n",
              "      --disabled-fill-color: #666;\n",
              "  }\n",
              "\n",
              "  .colab-df-quickchart {\n",
              "    background-color: var(--bg-color);\n",
              "    border: none;\n",
              "    border-radius: 50%;\n",
              "    cursor: pointer;\n",
              "    display: none;\n",
              "    fill: var(--fill-color);\n",
              "    height: 32px;\n",
              "    padding: 0;\n",
              "    width: 32px;\n",
              "  }\n",
              "\n",
              "  .colab-df-quickchart:hover {\n",
              "    background-color: var(--hover-bg-color);\n",
              "    box-shadow: 0 1px 2px rgba(60, 64, 67, 0.3), 0 1px 3px 1px rgba(60, 64, 67, 0.15);\n",
              "    fill: var(--button-hover-fill-color);\n",
              "  }\n",
              "\n",
              "  .colab-df-quickchart-complete:disabled,\n",
              "  .colab-df-quickchart-complete:disabled:hover {\n",
              "    background-color: var(--disabled-bg-color);\n",
              "    fill: var(--disabled-fill-color);\n",
              "    box-shadow: none;\n",
              "  }\n",
              "\n",
              "  .colab-df-spinner {\n",
              "    border: 2px solid var(--fill-color);\n",
              "    border-color: transparent;\n",
              "    border-bottom-color: var(--fill-color);\n",
              "    animation:\n",
              "      spin 1s steps(1) infinite;\n",
              "  }\n",
              "\n",
              "  @keyframes spin {\n",
              "    0% {\n",
              "      border-color: transparent;\n",
              "      border-bottom-color: var(--fill-color);\n",
              "      border-left-color: var(--fill-color);\n",
              "    }\n",
              "    20% {\n",
              "      border-color: transparent;\n",
              "      border-left-color: var(--fill-color);\n",
              "      border-top-color: var(--fill-color);\n",
              "    }\n",
              "    30% {\n",
              "      border-color: transparent;\n",
              "      border-left-color: var(--fill-color);\n",
              "      border-top-color: var(--fill-color);\n",
              "      border-right-color: var(--fill-color);\n",
              "    }\n",
              "    40% {\n",
              "      border-color: transparent;\n",
              "      border-right-color: var(--fill-color);\n",
              "      border-top-color: var(--fill-color);\n",
              "    }\n",
              "    60% {\n",
              "      border-color: transparent;\n",
              "      border-right-color: var(--fill-color);\n",
              "    }\n",
              "    80% {\n",
              "      border-color: transparent;\n",
              "      border-right-color: var(--fill-color);\n",
              "      border-bottom-color: var(--fill-color);\n",
              "    }\n",
              "    90% {\n",
              "      border-color: transparent;\n",
              "      border-bottom-color: var(--fill-color);\n",
              "    }\n",
              "  }\n",
              "</style>\n",
              "\n",
              "  <script>\n",
              "    async function quickchart(key) {\n",
              "      const quickchartButtonEl =\n",
              "        document.querySelector('#' + key + ' button');\n",
              "      quickchartButtonEl.disabled = true;  // To prevent multiple clicks.\n",
              "      quickchartButtonEl.classList.add('colab-df-spinner');\n",
              "      try {\n",
              "        const charts = await google.colab.kernel.invokeFunction(\n",
              "            'suggestCharts', [key], {});\n",
              "      } catch (error) {\n",
              "        console.error('Error during call to suggestCharts:', error);\n",
              "      }\n",
              "      quickchartButtonEl.classList.remove('colab-df-spinner');\n",
              "      quickchartButtonEl.classList.add('colab-df-quickchart-complete');\n",
              "    }\n",
              "    (() => {\n",
              "      let quickchartButtonEl =\n",
              "        document.querySelector('#df-369ba9b0-c2cd-46cd-b208-951f3540a0bd button');\n",
              "      quickchartButtonEl.style.display =\n",
              "        google.colab.kernel.accessAllowed ? 'block' : 'none';\n",
              "    })();\n",
              "  </script>\n",
              "</div>\n",
              "\n",
              "    </div>\n",
              "  </div>\n"
            ],
            "application/vnd.google.colaboratory.intrinsic+json": {
              "type": "dataframe",
              "variable_name": "df",
              "summary": "{\n  \"name\": \"df\",\n  \"rows\": 353,\n  \"fields\": [\n    {\n      \"column\": \"Checkbox 1\",\n      \"properties\": {\n        \"dtype\": \"category\",\n        \"num_unique_values\": 133,\n        \"samples\": [\n          \"https://upc.beetz.nl/showCaseDB.php?number=18917\",\n          \"https://upc.beetz.nl/showCaseDB.php?number=588685\",\n          \"https://upc.beetz.nl/showCaseDB.php?number=11921\"\n        ],\n        \"semantic_type\": \"\",\n        \"description\": \"\"\n      }\n    },\n    {\n      \"column\": \"Checkbox 2\",\n      \"properties\": {\n        \"dtype\": \"category\",\n        \"num_unique_values\": 36,\n        \"samples\": [\n          \"https://upc.beetz.nl/showCaseDB.php?number=459505\",\n          \"https://upc.beetz.nl/showCaseDB.php?number=585518\",\n          \"https://upc.beetz.nl/showCaseDB.php?number=571669\"\n        ],\n        \"semantic_type\": \"\",\n        \"description\": \"\"\n      }\n    },\n    {\n      \"column\": \"Checkbox 3\",\n      \"properties\": {\n        \"dtype\": \"string\",\n        \"num_unique_values\": 177,\n        \"samples\": [\n          \"https://upc.beetz.nl/showCaseDB.php?number=21152\",\n          \"https://upc.beetz.nl/showCaseDB.php?number=9804\",\n          \"https://upc.beetz.nl/showCaseDB.php?number=587618\"\n        ],\n        \"semantic_type\": \"\",\n        \"description\": \"\"\n      }\n    },\n    {\n      \"column\": \"Checkbox 4\",\n      \"properties\": {\n        \"dtype\": \"category\",\n        \"num_unique_values\": 39,\n        \"samples\": [\n          \"https://upc.beetz.nl/showCaseDB.php?number=551054\",\n          \"https://upc.beetz.nl/orders/ECLI-EU-UP-2023-526778.pdf\",\n          \"https://upc.beetz.nl/showCaseDB.php?number=18551\"\n        ],\n        \"semantic_type\": \"\",\n        \"description\": \"\"\n      }\n    },\n    {\n      \"column\": \"Checkbox 5\",\n      \"properties\": {\n        \"dtype\": \"category\",\n        \"num_unique_values\": 65,\n        \"samples\": [\n          \"https://upc.beetz.nl/showCaseDB.php?number=594313\",\n          \"https://upc.beetz.nl/showCaseDB.php?number=588422\",\n          \"https://upc.beetz.nl/showCaseDB.php?number=35049\"\n        ],\n        \"semantic_type\": \"\",\n        \"description\": \"\"\n      }\n    }\n  ]\n}"
            }
          },
          "metadata": {},
          "execution_count": 16
        }
      ]
    },
    {
      "cell_type": "code",
      "source": [
        "column1_data = df['Checkbox 1']\n",
        "column2_data = df['Checkbox 2']\n",
        "column3_data = df['Checkbox 3']\n",
        "column4_data = df['Checkbox 4']\n",
        "column5_data = df['Checkbox 5']"
      ],
      "metadata": {
        "id": "7Bcv0nZp2xNR"
      },
      "execution_count": null,
      "outputs": []
    },
    {
      "cell_type": "code",
      "source": [
        "final_data = pd.concat([column1_data, column2_data, column3_data, column4_data, column5_data]).reset_index(drop=True)"
      ],
      "metadata": {
        "id": "A9DrjQK12ZjP"
      },
      "execution_count": null,
      "outputs": []
    },
    {
      "cell_type": "code",
      "source": [
        "final_data.head()"
      ],
      "metadata": {
        "colab": {
          "base_uri": "https://localhost:8080/"
        },
        "id": "ntSfSr9Q4vcX",
        "outputId": "3af9b18d-086b-4aae-adbb-ed4461476289"
      },
      "execution_count": null,
      "outputs": [
        {
          "output_type": "execute_result",
          "data": {
            "text/plain": [
              "0    https://upc.beetz.nl/showCaseDB.php?number=35930\n",
              "1             https://upc.beetz.nl/Showcasedb#patents\n",
              "2    https://upc.beetz.nl/showCaseDB.php?number=36096\n",
              "3             https://upc.beetz.nl/Showcasedb#patents\n",
              "4    https://upc.beetz.nl/showCaseDB.php?number=33753\n",
              "dtype: object"
            ]
          },
          "metadata": {},
          "execution_count": 8
        }
      ]
    },
    {
      "cell_type": "code",
      "source": [
        "final_data.describe()"
      ],
      "metadata": {
        "colab": {
          "base_uri": "https://localhost:8080/"
        },
        "id": "FgR_5MCz3T95",
        "outputId": "708ff785-e0b0-4f38-d613-ca5ad1b3b654"
      },
      "execution_count": null,
      "outputs": [
        {
          "output_type": "execute_result",
          "data": {
            "text/plain": [
              "count                                         829\n",
              "unique                                        446\n",
              "top       https://upc.beetz.nl/Showcasedb#patents\n",
              "freq                                          384\n",
              "dtype: object"
            ]
          },
          "metadata": {},
          "execution_count": 9
        }
      ]
    },
    {
      "cell_type": "code",
      "source": [
        "final_data = final_data.drop_duplicates()"
      ],
      "metadata": {
        "id": "Y4GzRfYp3pZS"
      },
      "execution_count": null,
      "outputs": []
    },
    {
      "cell_type": "code",
      "source": [
        "final_data"
      ],
      "metadata": {
        "colab": {
          "base_uri": "https://localhost:8080/"
        },
        "id": "2I8kL6Wn40Xj",
        "outputId": "056b77dd-5fa5-4cfa-f20f-0557d7b22312"
      },
      "execution_count": null,
      "outputs": [
        {
          "output_type": "execute_result",
          "data": {
            "text/plain": [
              "0        https://upc.beetz.nl/showCaseDB.php?number=35930\n",
              "1                 https://upc.beetz.nl/Showcasedb#patents\n",
              "2        https://upc.beetz.nl/showCaseDB.php?number=36096\n",
              "4        https://upc.beetz.nl/showCaseDB.php?number=33753\n",
              "6        https://upc.beetz.nl/showCaseDB.php?number=29522\n",
              "                              ...                        \n",
              "1475    https://upc.beetz.nl/showCaseDB.php?number=588422\n",
              "1476    https://upc.beetz.nl/showCaseDB.php?number=588420\n",
              "1477    https://upc.beetz.nl/showCaseDB.php?number=576355\n",
              "1479    https://upc.beetz.nl/showCaseDB.php?number=572929\n",
              "1480    https://upc.beetz.nl/orders/ECLI-EU-UP-2023-58...\n",
              "Length: 447, dtype: object"
            ]
          },
          "metadata": {},
          "execution_count": 11
        }
      ]
    },
    {
      "cell_type": "code",
      "source": [
        "# Delete column with .pdf suffix\n",
        "# Convert the Series to string type before applying string operations\n",
        "final_data = final_data.astype(str)\n",
        "final_data = final_data[~final_data.str.endswith('.pdf')]"
      ],
      "metadata": {
        "id": "d9_t3yaUJ_D0"
      },
      "execution_count": null,
      "outputs": []
    },
    {
      "cell_type": "code",
      "source": [
        "final_data.describe()"
      ],
      "metadata": {
        "colab": {
          "base_uri": "https://localhost:8080/"
        },
        "id": "CftdnZ6lKjkK",
        "outputId": "d609a4b7-6970-4a7d-d0bb-fb1f4294be81"
      },
      "execution_count": null,
      "outputs": [
        {
          "output_type": "execute_result",
          "data": {
            "text/plain": [
              "count                                                  436\n",
              "unique                                                 436\n",
              "top       https://upc.beetz.nl/showCaseDB.php?number=35930\n",
              "freq                                                     1\n",
              "dtype: object"
            ]
          },
          "metadata": {},
          "execution_count": 13
        }
      ]
    },
    {
      "cell_type": "code",
      "source": [
        "final_data.to_excel('extracted_data.xlsx', index=False)\n",
        "print(\"Data extraction complete. Saved to 'extracted_data.xlsx'\")"
      ],
      "metadata": {
        "colab": {
          "base_uri": "https://localhost:8080/"
        },
        "id": "HiLxnUS4Xw-M",
        "outputId": "17d3a731-e913-4915-e21b-13dd8a1902e7"
      },
      "execution_count": null,
      "outputs": [
        {
          "output_type": "stream",
          "name": "stdout",
          "text": [
            "Data extraction complete. Saved to 'extracted_data.xlsx'\n"
          ]
        }
      ]
    }
  ]
}